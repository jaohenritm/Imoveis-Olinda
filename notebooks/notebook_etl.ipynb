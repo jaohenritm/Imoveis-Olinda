{
 "cells": [
  {
   "cell_type": "markdown",
   "id": "95982b52",
   "metadata": {},
   "source": [
    "# 0.0 Imports"
   ]
  },
  {
   "cell_type": "markdown",
   "id": "c6a2134c",
   "metadata": {},
   "source": [
    "## 0.1) Imports"
   ]
  },
  {
   "cell_type": "code",
   "execution_count": 1,
   "id": "adaf74f4",
   "metadata": {
    "ExecuteTime": {
     "end_time": "2022-05-08T08:43:23.009993Z",
     "start_time": "2022-05-08T08:43:20.988732Z"
    }
   },
   "outputs": [],
   "source": [
    "import re\n",
    "import sqlite3\n",
    "import warnings\n",
    "import requests\n",
    "\n",
    "import numpy as np\n",
    "import pandas as pd\n",
    "import seaborn as sns\n",
    "\n",
    "from datetime             import datetime\n",
    "from bs4                  import BeautifulSoup\n",
    "from matplotlib           import pyplot as plt\n",
    "from sqlalchemy           import create_engine"
   ]
  },
  {
   "cell_type": "markdown",
   "id": "db2496d0",
   "metadata": {},
   "source": [
    "## 0.2) Helper Functions"
   ]
  },
  {
   "cell_type": "code",
   "execution_count": 79,
   "id": "f68dc444",
   "metadata": {
    "ExecuteTime": {
     "end_time": "2022-05-05T04:45:10.729359Z",
     "start_time": "2022-05-05T04:45:10.724955Z"
    }
   },
   "outputs": [],
   "source": [
    "warnings.filterwarnings(\"ignore\")\n",
    "\n",
    "headers = {'User-Agent': 'Mozilla/5.0 (X11; Linux x86_64) AppleWebKit/537.36 (KHTML, like Gecko) Chrome/44.0.2403.157 Safari/537.36'}"
   ]
  },
  {
   "cell_type": "markdown",
   "id": "735ed0be",
   "metadata": {},
   "source": [
    "# 1) WebScraping"
   ]
  },
  {
   "cell_type": "markdown",
   "id": "bb1bfa40",
   "metadata": {},
   "source": [
    "## 1.1) Data Collection"
   ]
  },
  {
   "cell_type": "code",
   "execution_count": 106,
   "id": "02434353",
   "metadata": {
    "ExecuteTime": {
     "end_time": "2022-05-05T04:59:01.913651Z",
     "start_time": "2022-05-05T04:58:12.688311Z"
    }
   },
   "outputs": [],
   "source": [
    "url = 'https://www.zapimoveis.com.br/venda/imoveis/pe+olinda/?pagina=1'\n",
    "page = requests.get(url, headers=headers)\n",
    "\n",
    "soup = BeautifulSoup(page.text, 'html.parser')\n",
    "\n",
    "casas = soup.find_all('h1', class_ = 'js-summary-title summary__title heading-regular heading-regular__bold align-left text-margin-zero results__title')\n",
    "texto_casas = [p.get_text('strong') for p in casas]\n",
    "\n",
    "numero_casas = texto_casas[0].replace('.', '')\n",
    "numero_casas = int(re.search('\\d+', numero_casas).group(0))\n",
    "\n",
    "numero_paginas = numero_casas/24\n",
    "\n",
    "\n",
    "# auxiliares\n",
    "pagina = range(1, int(numero_paginas)-2, 1)\n",
    "dados = pd.DataFrame()\n",
    "\n",
    "\n",
    "for i in pagina:\n",
    "    url = 'https://www.zapimoveis.com.br/venda/imoveis/pe+olinda/?pagina=' + str(i)\n",
    "    page = requests.get(url, headers=headers)\n",
    "\n",
    "    soup = BeautifulSoup(page.text, 'html.parser')\n",
    "\n",
    "    # ID dos Imoveis\n",
    "    imoveis_lista = soup.find_all('div', class_ = \"card-container js-listing-card\")\n",
    "    identif = [p.get('data-id') for p in imoveis_lista]\n",
    "    \n",
    "    # Preco dos Imoveis\n",
    "    imoveis_lista = soup.find_all('p', class_ = 'simple-card__price js-price color-darker heading-regular heading-regular__bolder align-left')\n",
    "    preco = [p.get_text() for p in imoveis_lista]\n",
    "    preco = [p.replace('\\n', '') for p in preco]\n",
    "    preco = [p.replace('R$', '') for p in preco]\n",
    "    preco = [p.strip() for p in preco]\n",
    "\n",
    "    # coletando outros dados\n",
    "\n",
    "    imoveis_lista = soup.find_all('div', class_ = 'simple-card__actions')\n",
    "    dados_aux = [list(filter(None, p.get_text().split('\\n'))) for p in imoveis_lista]\n",
    "    dados_aux = pd.DataFrame(dados_aux)\n",
    "\n",
    "    # ajeitando tabela\n",
    "\n",
    "    dados_aux.columns = ['rua', 'drop', 'metro_quadrado', 'drop', 'quartos', 'drop', 'garagens', 'drop', 'banheiros', 'drop']\n",
    "    dados_aux = dados_aux[['rua', 'metro_quadrado', 'quartos', 'garagens', 'banheiros']]\n",
    "\n",
    "    # adicionando ID e preco a tabela\n",
    "    dados_aux['preco'] = preco\n",
    "    dados_aux['id'] = identif\n",
    "\n",
    "    dados = dados.append(dados_aux, ignore_index = True)\n",
    "    dados['scrapy-datetime'] = datetime.now().strftime('%Y-%m-%d %H:%M:%S')"
   ]
  },
  {
   "cell_type": "markdown",
   "id": "688b6b4d",
   "metadata": {},
   "source": [
    "## 1.2) Data Treatment"
   ]
  },
  {
   "cell_type": "code",
   "execution_count": null,
   "id": "db4b7164",
   "metadata": {},
   "outputs": [],
   "source": [
    "# remover \".\" no preco\n",
    "dados['preco'] = dados['preco'].apply(lambda x: x.replace('.', '') if pd.notnull(x) else x)\n",
    "\n",
    "# remover m2 no metro_quadrado\n",
    "dados['metro_quadrado'] = dados['metro_quadrado'].apply(lambda x: x.replace('m²', '') if pd.notnull(x) else x)\n",
    "\n",
    "# datetime\n",
    "dados.rename(columns={'scrapy-datetime':'scrapy_datetime'}, inplace=True)"
   ]
  },
  {
   "cell_type": "markdown",
   "id": "11366bb5",
   "metadata": {},
   "source": [
    "# 2) Database"
   ]
  },
  {
   "cell_type": "markdown",
   "id": "ef9a32e9",
   "metadata": {},
   "source": [
    "## 2.1) Creating Database"
   ]
  },
  {
   "cell_type": "code",
   "execution_count": 2,
   "id": "e7d3a524",
   "metadata": {
    "ExecuteTime": {
     "end_time": "2022-05-08T08:45:01.373436Z",
     "start_time": "2022-05-08T08:45:01.367136Z"
    }
   },
   "outputs": [],
   "source": [
    "query_showroom_schema = \"\"\"\n",
    "    CREATE TABLE imoveis(\n",
    "        'rua'                   TEXT,\n",
    "        'metro_quadrado'        TEXT,\n",
    "        'quartos'               INTEGER,\n",
    "        'garagens'              INTEGER,\n",
    "        'banheiros'             INTEGER,\n",
    "        'preco'                 INTEGER,\n",
    "        'id'                    TEXT,\n",
    "        'scrapy_datetime'       TEXT,\n",
    "        'geo'                   TEXT,\n",
    "        'geocoder'              TEXT,\n",
    "        'lat'                   TEXT,\n",
    "        'long'                  TEXT\n",
    "    )\n",
    "\"\"\""
   ]
  },
  {
   "cell_type": "markdown",
   "id": "9933e8e7",
   "metadata": {},
   "source": [
    "## 2.2) Data Insertion"
   ]
  },
  {
   "cell_type": "code",
   "execution_count": 1,
   "id": "ad6c6f19",
   "metadata": {
    "ExecuteTime": {
     "end_time": "2022-05-08T07:54:06.264224Z",
     "start_time": "2022-05-08T07:54:05.782917Z"
    }
   },
   "outputs": [
    {
     "ename": "NameError",
     "evalue": "name 'dados' is not defined",
     "output_type": "error",
     "traceback": [
      "\u001b[0;31m---------------------------------------------------------------------------\u001b[0m",
      "\u001b[0;31mNameError\u001b[0m                                 Traceback (most recent call last)",
      "Input \u001b[0;32mIn [1]\u001b[0m, in \u001b[0;36m<cell line: 1>\u001b[0;34m()\u001b[0m\n\u001b[0;32m----> 1\u001b[0m data_insert \u001b[38;5;241m=\u001b[39m \u001b[43mdados\u001b[49m[[\n\u001b[1;32m      2\u001b[0m     \u001b[38;5;124m'\u001b[39m\u001b[38;5;124mrua\u001b[39m\u001b[38;5;124m'\u001b[39m,\n\u001b[1;32m      3\u001b[0m     \u001b[38;5;124m'\u001b[39m\u001b[38;5;124mmetro_quadrado\u001b[39m\u001b[38;5;124m'\u001b[39m,\n\u001b[1;32m      4\u001b[0m     \u001b[38;5;124m'\u001b[39m\u001b[38;5;124mquartos\u001b[39m\u001b[38;5;124m'\u001b[39m,\n\u001b[1;32m      5\u001b[0m     \u001b[38;5;124m'\u001b[39m\u001b[38;5;124mgaragens\u001b[39m\u001b[38;5;124m'\u001b[39m,\n\u001b[1;32m      6\u001b[0m     \u001b[38;5;124m'\u001b[39m\u001b[38;5;124mbanheiros\u001b[39m\u001b[38;5;124m'\u001b[39m,\n\u001b[1;32m      7\u001b[0m     \u001b[38;5;124m'\u001b[39m\u001b[38;5;124mpreco\u001b[39m\u001b[38;5;124m'\u001b[39m,\n\u001b[1;32m      8\u001b[0m     \u001b[38;5;124m'\u001b[39m\u001b[38;5;124mid\u001b[39m\u001b[38;5;124m'\u001b[39m,\n\u001b[1;32m      9\u001b[0m     \u001b[38;5;124m'\u001b[39m\u001b[38;5;124mscrapy_datetime\u001b[39m\u001b[38;5;124m'\u001b[39m,\n\u001b[1;32m     10\u001b[0m ]]\n",
      "\u001b[0;31mNameError\u001b[0m: name 'dados' is not defined"
     ]
    }
   ],
   "source": [
    "data_insert = dados[[\n",
    "    'rua',\n",
    "    'metro_quadrado',\n",
    "    'quartos',\n",
    "    'garagens',\n",
    "    'banheiros',\n",
    "    'preco',\n",
    "    'id',\n",
    "    'scrapy_datetime',\n",
    "    'geo',\n",
    "    'lat',\n",
    "    'long'\n",
    "]]"
   ]
  },
  {
   "cell_type": "code",
   "execution_count": 3,
   "id": "65b22540",
   "metadata": {
    "ExecuteTime": {
     "end_time": "2022-05-08T08:45:03.625678Z",
     "start_time": "2022-05-08T08:45:03.614928Z"
    }
   },
   "outputs": [],
   "source": [
    "# create table\n",
    "conn = sqlite3.connect('/home/joaohenritm/repos/Olinda-Imoveis/database/database_imoveis.sqlite')\n",
    "cursor = conn.execute(query_showroom_schema)\n",
    "conn.commit()"
   ]
  },
  {
   "cell_type": "code",
   "execution_count": 108,
   "id": "6949f8dc",
   "metadata": {
    "ExecuteTime": {
     "end_time": "2022-05-05T04:59:23.553882Z",
     "start_time": "2022-05-05T04:59:23.497275Z"
    }
   },
   "outputs": [
    {
     "data": {
      "text/plain": [
       "2087"
      ]
     },
     "execution_count": 108,
     "metadata": {},
     "output_type": "execute_result"
    }
   ],
   "source": [
    "# create database connection\n",
    "conn = create_engine('sqlite:////home/joaohenritm/repos/Olinda-Imoveis/database/database_imoveis.sqlite', echo=False)\n",
    "\n",
    "\n",
    "# data insert\n",
    "data_insert.to_sql('imoveis', con=conn, if_exists='append', index=False)"
   ]
  }
 ],
 "metadata": {
  "kernelspec": {
   "display_name": "Python 3 (ipykernel)",
   "language": "python",
   "name": "python3"
  },
  "language_info": {
   "codemirror_mode": {
    "name": "ipython",
    "version": 3
   },
   "file_extension": ".py",
   "mimetype": "text/x-python",
   "name": "python",
   "nbconvert_exporter": "python",
   "pygments_lexer": "ipython3",
   "version": "3.9.0"
  },
  "varInspector": {
   "cols": {
    "lenName": 16,
    "lenType": 16,
    "lenVar": 40
   },
   "kernels_config": {
    "python": {
     "delete_cmd_postfix": "",
     "delete_cmd_prefix": "del ",
     "library": "var_list.py",
     "varRefreshCmd": "print(var_dic_list())"
    },
    "r": {
     "delete_cmd_postfix": ") ",
     "delete_cmd_prefix": "rm(",
     "library": "var_list.r",
     "varRefreshCmd": "cat(var_dic_list()) "
    }
   },
   "types_to_exclude": [
    "module",
    "function",
    "builtin_function_or_method",
    "instance",
    "_Feature"
   ],
   "window_display": false
  }
 },
 "nbformat": 4,
 "nbformat_minor": 5
}
